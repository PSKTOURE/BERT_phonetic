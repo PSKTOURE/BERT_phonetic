{
 "cells": [
  {
   "cell_type": "code",
   "execution_count": 1,
   "metadata": {},
   "outputs": [
    {
     "name": "stdout",
     "output_type": "stream",
     "text": [
      "/home/toure215/BERT_phonetic/test\n",
      "/home/toure215/BERT_phonetic\n"
     ]
    }
   ],
   "source": [
    "from datasets import load_dataset, load_from_disk\n",
    "import os\n",
    "import sys\n",
    "print(os.getcwd())\n",
    "print(os.path.dirname(os.getcwd()))\n",
    "sys.path.append(os.path.dirname(os.getcwd()))\n",
    "# print(sys.path)\n",
    "from src.utils import translate_to_phonetic\n",
    "from src.train_tokenizer import load_tokenizer\n",
    "from src.bert_wikitext_train import preprocess_dataset"
   ]
  },
  {
   "cell_type": "code",
   "execution_count": 14,
   "metadata": {},
   "outputs": [
    {
     "data": {
      "application/vnd.jupyter.widget-view+json": {
       "model_id": "6cfac9a8ab0e4bbe940148658ab9b1f8",
       "version_major": 2,
       "version_minor": 0
      },
      "text/plain": [
       "Loading dataset from disk:   0%|          | 0/47 [00:00<?, ?it/s]"
      ]
     },
     "metadata": {},
     "output_type": "display_data"
    }
   ],
   "source": [
    "bookcorpus = load_from_disk(\"/home/toure215/BERT_phonetic/DATASETS/phonetic_bookcorpus\")"
   ]
  },
  {
   "cell_type": "code",
   "execution_count": 15,
   "metadata": {},
   "outputs": [
    {
     "data": {
      "text/plain": [
       "DatasetDict({\n",
       "    train: Dataset({\n",
       "        features: ['text'],\n",
       "        num_rows: 113445651\n",
       "    })\n",
       "    validation: Dataset({\n",
       "        features: ['text'],\n",
       "        num_rows: 224959\n",
       "    })\n",
       "})"
      ]
     },
     "execution_count": 15,
     "metadata": {},
     "output_type": "execute_result"
    }
   ],
   "source": [
    "bookcorpus"
   ]
  },
  {
   "cell_type": "code",
   "execution_count": 16,
   "metadata": {},
   "outputs": [
    {
     "name": "stdout",
     "output_type": "stream",
     "text": [
      "{'text': 'wVt '}\n"
     ]
    }
   ],
   "source": [
    "print(bookcorpus[\"train\"][0])"
   ]
  },
  {
   "cell_type": "code",
   "execution_count": 19,
   "metadata": {},
   "outputs": [
    {
     "data": {
      "text/plain": [
       "1.0566846938892351"
      ]
     },
     "execution_count": 19,
     "metadata": {},
     "output_type": "execute_result"
    }
   ],
   "source": [
    "text_lengths = bookcorpus['train'].map(lambda x: {\"text_length\": len(x[\"text\"][0].split(\" \"))}, num_proc=16, remove_columns=[\"text\"])\n",
    "total_length = sum(text_lengths[\"text_length\"])\n",
    "mean = total_length / len(bookcorpus[\"train\"])\n",
    "mean"
   ]
  },
  {
   "cell_type": "code",
   "execution_count": 24,
   "metadata": {},
   "outputs": [
    {
     "name": "stdout",
     "output_type": "stream",
     "text": [
      "{'text_length': [1, 1, 1, 1, 1, 1, 2, 1, 1, 1]}\n"
     ]
    },
    {
     "data": {
      "text/plain": [
       "{'text': ' wi S{l bi Ol r\\\\ajt wEr\\\\ wi Ar\\\\  '}"
      ]
     },
     "execution_count": 24,
     "metadata": {},
     "output_type": "execute_result"
    }
   ],
   "source": [
    "print(text_lengths[:10])\n",
    "bookcorpus[\"train\"][6]"
   ]
  },
  {
   "cell_type": "code",
   "execution_count": 7,
   "metadata": {},
   "outputs": [
    {
     "name": "stdout",
     "output_type": "stream",
     "text": [
      "Loading tokenizer from tokenizer_phonetic_BPE\n"
     ]
    }
   ],
   "source": [
    "tokenizer = load_tokenizer(\"/home/toure215/BERT_phonetic/tokenizers/tokenizer_phonetic_BPE\")\n",
    "tokenized_dataset = preprocess_dataset(bookcorpus, tokenizer, 128)"
   ]
  },
  {
   "cell_type": "code",
   "execution_count": 8,
   "metadata": {},
   "outputs": [
    {
     "data": {
      "text/plain": [
       "DatasetDict({\n",
       "    train: Dataset({\n",
       "        features: ['input_ids', 'token_type_ids', 'attention_mask'],\n",
       "        num_rows: 113445651\n",
       "    })\n",
       "    validation: Dataset({\n",
       "        features: ['input_ids', 'token_type_ids', 'attention_mask'],\n",
       "        num_rows: 224959\n",
       "    })\n",
       "})"
      ]
     },
     "execution_count": 8,
     "metadata": {},
     "output_type": "execute_result"
    }
   ],
   "source": [
    "tokenized_dataset"
   ]
  },
  {
   "cell_type": "code",
   "execution_count": 9,
   "metadata": {},
   "outputs": [
    {
     "name": "stdout",
     "output_type": "stream",
     "text": [
      "torch.Size([8, 128])\n",
      "torch.Size([8, 128])\n",
      "torch.Size([8, 128])\n",
      "torch.Size([8, 40])\n",
      "torch.Size([8, 128])\n",
      "torch.Size([8, 128])\n",
      "torch.Size([8, 33])\n",
      "torch.Size([8, 128])\n",
      "torch.Size([8, 128])\n",
      "torch.Size([8, 128])\n",
      "torch.Size([8, 128])\n",
      "torch.Size([8, 128])\n"
     ]
    }
   ],
   "source": [
    "from torch.utils.data import DataLoader\n",
    "from transformers import DataCollatorWithPadding\n",
    "\n",
    "datacollator = DataCollatorWithPadding(tokenizer)\n",
    "dataloader = DataLoader(tokenized_dataset[\"train\"], batch_size=8, num_workers=16, collate_fn=datacollator)\n",
    "for step, batch in enumerate(dataloader):\n",
    "    print(batch[\"input_ids\"].shape)\n",
    "    if step > 10:\n",
    "        break"
   ]
  },
  {
   "cell_type": "code",
   "execution_count": 10,
   "metadata": {},
   "outputs": [
    {
     "data": {
      "application/vnd.jupyter.widget-view+json": {
       "model_id": "8cd68369d096418d91e3d5b9e608c131",
       "version_major": 2,
       "version_minor": 0
      },
      "text/plain": [
       "Loading dataset from disk:   0%|          | 0/51 [00:00<?, ?it/s]"
      ]
     },
     "metadata": {},
     "output_type": "display_data"
    },
    {
     "data": {
      "text/plain": [
       "DatasetDict({\n",
       "    train: Dataset({\n",
       "        features: ['text'],\n",
       "        num_rows: 80301972\n",
       "    })\n",
       "    validation: Dataset({\n",
       "        features: ['text'],\n",
       "        num_rows: 160926\n",
       "    })\n",
       "})"
      ]
     },
     "execution_count": 10,
     "metadata": {},
     "output_type": "execute_result"
    }
   ],
   "source": [
    "bookcorpus = load_from_disk(\"/home/toure215/BERT_phonetic/DATASETS/bookcorpus\")\n",
    "bookcorpus"
   ]
  },
  {
   "cell_type": "code",
   "execution_count": 11,
   "metadata": {},
   "outputs": [
    {
     "data": {
      "text/plain": [
       "19.792904737133977"
      ]
     },
     "execution_count": 11,
     "metadata": {},
     "output_type": "execute_result"
    }
   ],
   "source": [
    "text_lengths = bookcorpus['train'].map(lambda x: {\"text_length\": len(x[\"text\"][0].split(\" \"))}, num_proc=16, remove_columns=[\"text\"])\n",
    "total_length = sum(text_lengths[\"text_length\"])\n",
    "mean = total_length / len(bookcorpus[\"train\"])\n",
    "mean"
   ]
  },
  {
   "cell_type": "code",
   "execution_count": 12,
   "metadata": {},
   "outputs": [
    {
     "name": "stdout",
     "output_type": "stream",
     "text": [
      "{'text_length': [18, 7, 10, 6, 5, 18, 15, 7, 39, 27, 33, 7, 7, 9, 9, 10, 4, 21, 6, 6, 6, 14, 9, 6, 15, 12, 9, 7, 12, 9, 16, 9, 10, 12, 27, 21, 5, 91, 8, 10, 3, 3, 11, 5, 17, 3, 16, 12, 6, 35, 49, 10, 34, 4, 18, 5, 22, 6, 19, 13, 36, 8, 8, 36, 5, 23, 6, 19, 17, 3, 23, 22, 10, 29, 20, 6, 9, 14, 100, 28, 31, 6, 8, 23, 12, 6, 12, 29, 3, 8, 10, 2, 100, 100, 5, 4, 100, 18, 6, 20]}\n",
      "100\n"
     ]
    }
   ],
   "source": [
    "print(text_lengths[:100])\n",
    "print(max(text_lengths[\"text_length\"]))"
   ]
  },
  {
   "cell_type": "code",
   "execution_count": null,
   "metadata": {},
   "outputs": [],
   "source": []
  },
  {
   "cell_type": "code",
   "execution_count": null,
   "metadata": {},
   "outputs": [],
   "source": []
  }
 ],
 "metadata": {
  "kernelspec": {
   "display_name": "bert",
   "language": "python",
   "name": "python3"
  },
  "language_info": {
   "codemirror_mode": {
    "name": "ipython",
    "version": 3
   },
   "file_extension": ".py",
   "mimetype": "text/x-python",
   "name": "python",
   "nbconvert_exporter": "python",
   "pygments_lexer": "ipython3",
   "version": "3.10.15"
  }
 },
 "nbformat": 4,
 "nbformat_minor": 2
}
