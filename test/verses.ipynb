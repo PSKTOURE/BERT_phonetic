{
 "cells": [
  {
   "cell_type": "code",
   "execution_count": 30,
   "metadata": {},
   "outputs": [
    {
     "name": "stdout",
     "output_type": "stream",
     "text": [
      "/home/toure215/BERT_phonetic/test\n",
      "/home/toure215/BERT_phonetic\n"
     ]
    }
   ],
   "source": [
    "import os\n",
    "import sys\n",
    "import numpy as np\n",
    "print(os.getcwd())\n",
    "print(os.path.dirname(os.getcwd()))\n",
    "sys.path.append(os.path.dirname(os.getcwd()))\n",
    "import pandas as pd\n",
    "import epitran\n",
    "from datasets import load_dataset, DatasetDict\n",
    "from functools import lru_cache\n",
    "from sklearn.model_selection import train_test_split"
   ]
  },
  {
   "cell_type": "code",
   "execution_count": 2,
   "metadata": {},
   "outputs": [],
   "source": [
    "dataset = load_dataset(\"csv\" , data_files=\"/home/toure215/BERT_phonetic/DATASETS/verses.csv\")"
   ]
  },
  {
   "cell_type": "code",
   "execution_count": 3,
   "metadata": {},
   "outputs": [
    {
     "data": {
      "text/plain": [
       "DatasetDict({\n",
       "    train: Dataset({\n",
       "        features: ['id', 'Verse', 'Meter', 'char_count'],\n",
       "        num_rows: 199002\n",
       "    })\n",
       "})"
      ]
     },
     "execution_count": 3,
     "metadata": {},
     "output_type": "execute_result"
    }
   ],
   "source": [
    "dataset"
   ]
  },
  {
   "cell_type": "code",
   "execution_count": 4,
   "metadata": {},
   "outputs": [
    {
     "data": {
      "text/html": [
       "<div>\n",
       "<style scoped>\n",
       "    .dataframe tbody tr th:only-of-type {\n",
       "        vertical-align: middle;\n",
       "    }\n",
       "\n",
       "    .dataframe tbody tr th {\n",
       "        vertical-align: top;\n",
       "    }\n",
       "\n",
       "    .dataframe thead th {\n",
       "        text-align: right;\n",
       "    }\n",
       "</style>\n",
       "<table border=\"1\" class=\"dataframe\">\n",
       "  <thead>\n",
       "    <tr style=\"text-align: right;\">\n",
       "      <th></th>\n",
       "      <th>id</th>\n",
       "      <th>text</th>\n",
       "      <th>Meter</th>\n",
       "      <th>char_count</th>\n",
       "    </tr>\n",
       "  </thead>\n",
       "  <tbody>\n",
       "    <tr>\n",
       "      <th>0</th>\n",
       "      <td>0</td>\n",
       "      <td>ah why this boding start this sudden pain</td>\n",
       "      <td>iambic</td>\n",
       "      <td>6</td>\n",
       "    </tr>\n",
       "    <tr>\n",
       "      <th>1</th>\n",
       "      <td>1</td>\n",
       "      <td>that wings my pulse and shoots from vein to vein</td>\n",
       "      <td>iambic</td>\n",
       "      <td>6</td>\n",
       "    </tr>\n",
       "    <tr>\n",
       "      <th>2</th>\n",
       "      <td>2</td>\n",
       "      <td>what mean regardless of yon midnight bell</td>\n",
       "      <td>iambic</td>\n",
       "      <td>6</td>\n",
       "    </tr>\n",
       "    <tr>\n",
       "      <th>3</th>\n",
       "      <td>3</td>\n",
       "      <td>these earthborn visions saddening o'er my cell</td>\n",
       "      <td>iambic</td>\n",
       "      <td>6</td>\n",
       "    </tr>\n",
       "    <tr>\n",
       "      <th>4</th>\n",
       "      <td>4</td>\n",
       "      <td>what strange disorder prompts these thoughts t...</td>\n",
       "      <td>iambic</td>\n",
       "      <td>6</td>\n",
       "    </tr>\n",
       "  </tbody>\n",
       "</table>\n",
       "</div>"
      ],
      "text/plain": [
       "   id                                               text   Meter  char_count\n",
       "0   0          ah why this boding start this sudden pain  iambic           6\n",
       "1   1   that wings my pulse and shoots from vein to vein  iambic           6\n",
       "2   2          what mean regardless of yon midnight bell  iambic           6\n",
       "3   3     these earthborn visions saddening o'er my cell  iambic           6\n",
       "4   4  what strange disorder prompts these thoughts t...  iambic           6"
      ]
     },
     "execution_count": 4,
     "metadata": {},
     "output_type": "execute_result"
    }
   ],
   "source": [
    "pd_dataset = pd.read_csv(\"/home/toure215/BERT_phonetic/DATASETS/verses.csv\")\n",
    "pd_dataset.rename(columns={\"Verse\":\"text\"}, inplace=True)\n",
    "pd_dataset.head()"
   ]
  },
  {
   "cell_type": "code",
   "execution_count": 5,
   "metadata": {},
   "outputs": [
    {
     "data": {
      "text/plain": [
       "'that wings my pulse and shoots from vein to vein'"
      ]
     },
     "execution_count": 5,
     "metadata": {},
     "output_type": "execute_result"
    }
   ],
   "source": [
    "pd_dataset.iloc[1][\"text\"]"
   ]
  },
  {
   "cell_type": "code",
   "execution_count": 6,
   "metadata": {},
   "outputs": [
    {
     "data": {
      "text/html": [
       "<div>\n",
       "<style scoped>\n",
       "    .dataframe tbody tr th:only-of-type {\n",
       "        vertical-align: middle;\n",
       "    }\n",
       "\n",
       "    .dataframe tbody tr th {\n",
       "        vertical-align: top;\n",
       "    }\n",
       "\n",
       "    .dataframe thead th {\n",
       "        text-align: right;\n",
       "    }\n",
       "</style>\n",
       "<table border=\"1\" class=\"dataframe\">\n",
       "  <thead>\n",
       "    <tr style=\"text-align: right;\">\n",
       "      <th></th>\n",
       "      <th>id</th>\n",
       "      <th>sentence1</th>\n",
       "      <th>sentence2</th>\n",
       "      <th>label</th>\n",
       "    </tr>\n",
       "  </thead>\n",
       "  <tbody>\n",
       "  </tbody>\n",
       "</table>\n",
       "</div>"
      ],
      "text/plain": [
       "Empty DataFrame\n",
       "Columns: [id, sentence1, sentence2, label]\n",
       "Index: []"
      ]
     },
     "execution_count": 6,
     "metadata": {},
     "output_type": "execute_result"
    }
   ],
   "source": [
    "verse_dataset = pd.DataFrame(columns=[\"id\", \"sentence1\", \"sentence2\", \"label\"])\n",
    "verse_dataset"
   ]
  },
  {
   "cell_type": "code",
   "execution_count": 7,
   "metadata": {},
   "outputs": [],
   "source": [
    "epi = epitran.Epitran(\"eng-Latn\")\n",
    "@lru_cache(maxsize=None)\n",
    "def cached_xsampa_list(word):\n",
    "    return epi.xsampa_list(word)\n",
    "\n",
    "def is_rhyming(word1, word2):\n",
    "    sound1 = cached_xsampa_list(word1)\n",
    "    sound2 = cached_xsampa_list(word2)\n",
    "    if len(sound1) < 2 or len(sound2) < 2:\n",
    "        return False\n",
    "    return sound1[-2:] == sound2[-2:]"
   ]
  },
  {
   "cell_type": "code",
   "execution_count": 8,
   "metadata": {},
   "outputs": [],
   "source": [
    "for i in range(0, len(pd_dataset) - 1, 2):\n",
    "    last = len(verse_dataset)\n",
    "    verse_dataset.loc[last] = [\n",
    "        last,\n",
    "        pd_dataset.iloc[i][\"text\"],\n",
    "        pd_dataset.iloc[i + 1][\"text\"],\n",
    "        1, # rhyming\n",
    "    ]\n",
    "\n",
    "    max_attempts = 10\n",
    "    attempts = 0\n",
    "    while attempts < max_attempts:\n",
    "        random_index1 = np.random.randint(0, len(pd_dataset))\n",
    "        random_index2 = np.random.randint(0, len(pd_dataset))\n",
    "        word1 = pd_dataset.iloc[random_index1][\"text\"].split()[-1]\n",
    "        word2 = pd_dataset.iloc[random_index2][\"text\"].split()[-1]\n",
    "        if not is_rhyming(word1, word2):\n",
    "            break\n",
    "        attempts += 1\n",
    "\n",
    "    verse_dataset.loc[last + 1] = [\n",
    "        last + 1,\n",
    "        pd_dataset.iloc[random_index1][\"text\"],\n",
    "        pd_dataset.iloc[random_index2][\"text\"],\n",
    "        0,  # not rhyming\n",
    "    ]"
   ]
  },
  {
   "cell_type": "code",
   "execution_count": 9,
   "metadata": {},
   "outputs": [
    {
     "name": "stdout",
     "output_type": "stream",
     "text": [
      "199002\n",
      "199002\n"
     ]
    },
    {
     "data": {
      "text/html": [
       "<div>\n",
       "<style scoped>\n",
       "    .dataframe tbody tr th:only-of-type {\n",
       "        vertical-align: middle;\n",
       "    }\n",
       "\n",
       "    .dataframe tbody tr th {\n",
       "        vertical-align: top;\n",
       "    }\n",
       "\n",
       "    .dataframe thead th {\n",
       "        text-align: right;\n",
       "    }\n",
       "</style>\n",
       "<table border=\"1\" class=\"dataframe\">\n",
       "  <thead>\n",
       "    <tr style=\"text-align: right;\">\n",
       "      <th></th>\n",
       "      <th>id</th>\n",
       "      <th>sentence1</th>\n",
       "      <th>sentence2</th>\n",
       "      <th>label</th>\n",
       "    </tr>\n",
       "  </thead>\n",
       "  <tbody>\n",
       "    <tr>\n",
       "      <th>0</th>\n",
       "      <td>0</td>\n",
       "      <td>ah why this boding start this sudden pain</td>\n",
       "      <td>that wings my pulse and shoots from vein to vein</td>\n",
       "      <td>1</td>\n",
       "    </tr>\n",
       "    <tr>\n",
       "      <th>1</th>\n",
       "      <td>1</td>\n",
       "      <td>the best kind blessings heaven can grant the fair</td>\n",
       "      <td>clos'd in a proud seraglio's gloomy walls</td>\n",
       "      <td>0</td>\n",
       "    </tr>\n",
       "    <tr>\n",
       "      <th>2</th>\n",
       "      <td>2</td>\n",
       "      <td>what mean regardless of yon midnight bell</td>\n",
       "      <td>these earthborn visions saddening o'er my cell</td>\n",
       "      <td>1</td>\n",
       "    </tr>\n",
       "    <tr>\n",
       "      <th>3</th>\n",
       "      <td>3</td>\n",
       "      <td>farewel reply'd his friend may you advance</td>\n",
       "      <td>careless of all th' anxiety he feels</td>\n",
       "      <td>0</td>\n",
       "    </tr>\n",
       "    <tr>\n",
       "      <th>4</th>\n",
       "      <td>4</td>\n",
       "      <td>what strange disorder prompts these thoughts t...</td>\n",
       "      <td>these sighs to murmur and these tears to flow</td>\n",
       "      <td>1</td>\n",
       "    </tr>\n",
       "    <tr>\n",
       "      <th>5</th>\n",
       "      <td>5</td>\n",
       "      <td>and plausible than social life requires</td>\n",
       "      <td>resistless in so bad a cause but lame</td>\n",
       "      <td>0</td>\n",
       "    </tr>\n",
       "    <tr>\n",
       "      <th>6</th>\n",
       "      <td>6</td>\n",
       "      <td>'tis she 'tis eloisa's form restor'd</td>\n",
       "      <td>once a pure saint and more than saints ador'd</td>\n",
       "      <td>1</td>\n",
       "    </tr>\n",
       "    <tr>\n",
       "      <th>7</th>\n",
       "      <td>7</td>\n",
       "      <td>well may your hearts believe the truths i tell</td>\n",
       "      <td>broods she in purple o'er the venal bar</td>\n",
       "      <td>0</td>\n",
       "    </tr>\n",
       "    <tr>\n",
       "      <th>8</th>\n",
       "      <td>8</td>\n",
       "      <td>she comes in all her killing charms confest</td>\n",
       "      <td>glares thro' the gloom and pours upon my breast</td>\n",
       "      <td>1</td>\n",
       "    </tr>\n",
       "    <tr>\n",
       "      <th>9</th>\n",
       "      <td>9</td>\n",
       "      <td>and let my fate your pity move</td>\n",
       "      <td>prison my heart in thy steel bosoms ward</td>\n",
       "      <td>0</td>\n",
       "    </tr>\n",
       "    <tr>\n",
       "      <th>10</th>\n",
       "      <td>10</td>\n",
       "      <td>bids heav'n's bright guard from paraclete remove</td>\n",
       "      <td>and drags me back to misery and love</td>\n",
       "      <td>1</td>\n",
       "    </tr>\n",
       "    <tr>\n",
       "      <th>11</th>\n",
       "      <td>11</td>\n",
       "      <td>what more than gothic ire</td>\n",
       "      <td>we read with pleasure imitate with pain</td>\n",
       "      <td>0</td>\n",
       "    </tr>\n",
       "    <tr>\n",
       "      <th>12</th>\n",
       "      <td>12</td>\n",
       "      <td>enjoy thy triumphs dear illusion see</td>\n",
       "      <td>this sad apostate from his god to thee</td>\n",
       "      <td>1</td>\n",
       "    </tr>\n",
       "    <tr>\n",
       "      <th>13</th>\n",
       "      <td>13</td>\n",
       "      <td>why come from many clamorous tongues to hear</td>\n",
       "      <td>to him that wears it what can attergames</td>\n",
       "      <td>0</td>\n",
       "    </tr>\n",
       "    <tr>\n",
       "      <th>14</th>\n",
       "      <td>14</td>\n",
       "      <td>see at thy call my guilty warmths return</td>\n",
       "      <td>flame thro' my blood and steal me from my urn</td>\n",
       "      <td>1</td>\n",
       "    </tr>\n",
       "    <tr>\n",
       "      <th>15</th>\n",
       "      <td>15</td>\n",
       "      <td>the charter was conferr'd by which we hold</td>\n",
       "      <td>to earth's acknowledg'd sov'reign finds at once</td>\n",
       "      <td>0</td>\n",
       "    </tr>\n",
       "    <tr>\n",
       "      <th>16</th>\n",
       "      <td>16</td>\n",
       "      <td>yet yet frail abelard one effort try</td>\n",
       "      <td>ere the last lingering spark of virtue die</td>\n",
       "      <td>1</td>\n",
       "    </tr>\n",
       "    <tr>\n",
       "      <th>17</th>\n",
       "      <td>17</td>\n",
       "      <td>what though painted on the air</td>\n",
       "      <td>and the muse triumphs in the actor's might</td>\n",
       "      <td>0</td>\n",
       "    </tr>\n",
       "    <tr>\n",
       "      <th>18</th>\n",
       "      <td>18</td>\n",
       "      <td>the deadly charming sorceress controul</td>\n",
       "      <td>and spite of nature tear her from thy soul</td>\n",
       "      <td>1</td>\n",
       "    </tr>\n",
       "    <tr>\n",
       "      <th>19</th>\n",
       "      <td>19</td>\n",
       "      <td>was all my business and my care</td>\n",
       "      <td>'drove me directly in her eye</td>\n",
       "      <td>0</td>\n",
       "    </tr>\n",
       "  </tbody>\n",
       "</table>\n",
       "</div>"
      ],
      "text/plain": [
       "    id                                          sentence1  \\\n",
       "0    0          ah why this boding start this sudden pain   \n",
       "1    1  the best kind blessings heaven can grant the fair   \n",
       "2    2          what mean regardless of yon midnight bell   \n",
       "3    3         farewel reply'd his friend may you advance   \n",
       "4    4  what strange disorder prompts these thoughts t...   \n",
       "5    5            and plausible than social life requires   \n",
       "6    6               'tis she 'tis eloisa's form restor'd   \n",
       "7    7     well may your hearts believe the truths i tell   \n",
       "8    8        she comes in all her killing charms confest   \n",
       "9    9                     and let my fate your pity move   \n",
       "10  10   bids heav'n's bright guard from paraclete remove   \n",
       "11  11                          what more than gothic ire   \n",
       "12  12               enjoy thy triumphs dear illusion see   \n",
       "13  13       why come from many clamorous tongues to hear   \n",
       "14  14           see at thy call my guilty warmths return   \n",
       "15  15         the charter was conferr'd by which we hold   \n",
       "16  16               yet yet frail abelard one effort try   \n",
       "17  17                     what though painted on the air   \n",
       "18  18             the deadly charming sorceress controul   \n",
       "19  19                    was all my business and my care   \n",
       "\n",
       "                                           sentence2  label  \n",
       "0   that wings my pulse and shoots from vein to vein      1  \n",
       "1          clos'd in a proud seraglio's gloomy walls      0  \n",
       "2     these earthborn visions saddening o'er my cell      1  \n",
       "3               careless of all th' anxiety he feels      0  \n",
       "4      these sighs to murmur and these tears to flow      1  \n",
       "5              resistless in so bad a cause but lame      0  \n",
       "6      once a pure saint and more than saints ador'd      1  \n",
       "7            broods she in purple o'er the venal bar      0  \n",
       "8    glares thro' the gloom and pours upon my breast      1  \n",
       "9           prison my heart in thy steel bosoms ward      0  \n",
       "10              and drags me back to misery and love      1  \n",
       "11           we read with pleasure imitate with pain      0  \n",
       "12            this sad apostate from his god to thee      1  \n",
       "13          to him that wears it what can attergames      0  \n",
       "14     flame thro' my blood and steal me from my urn      1  \n",
       "15   to earth's acknowledg'd sov'reign finds at once      0  \n",
       "16        ere the last lingering spark of virtue die      1  \n",
       "17        and the muse triumphs in the actor's might      0  \n",
       "18        and spite of nature tear her from thy soul      1  \n",
       "19                     'drove me directly in her eye      0  "
      ]
     },
     "execution_count": 9,
     "metadata": {},
     "output_type": "execute_result"
    }
   ],
   "source": [
    "print(len(verse_dataset))\n",
    "print(len(pd_dataset))\n",
    "verse_dataset.head(20)"
   ]
  },
  {
   "cell_type": "code",
   "execution_count": 11,
   "metadata": {},
   "outputs": [
    {
     "name": "stdout",
     "output_type": "stream",
     "text": [
      "Number of unique rows: 199002\n"
     ]
    }
   ],
   "source": [
    "print(\"Number of unique rows:\", verse_dataset[[\"sentence1\", \"sentence2\", \"label\"]].drop_duplicates().shape[0])"
   ]
  },
  {
   "cell_type": "code",
   "execution_count": 18,
   "metadata": {},
   "outputs": [],
   "source": [
    "verse_dataset.to_csv(\"/home/toure215/BERT_phonetic/DATASETS/verse_dataset.csv\", index=False)"
   ]
  },
  {
   "cell_type": "code",
   "execution_count": 19,
   "metadata": {},
   "outputs": [],
   "source": [
    "train, test = train_test_split(verse_dataset, test_size=0.2, random_state=42)\n",
    "train, val = train_test_split(train, test_size=0.1, random_state=42)"
   ]
  },
  {
   "cell_type": "code",
   "execution_count": 20,
   "metadata": {},
   "outputs": [],
   "source": [
    "train.to_csv(\"/home/toure215/BERT_phonetic/DATASETS/verses/train.csv\", index=False)\n",
    "val.to_csv(\"/home/toure215/BERT_phonetic/DATASETS/verses/val.csv\", index=False)\n",
    "test.to_csv(\"/home/toure215/BERT_phonetic/DATASETS/verses/test.csv\", index=False)"
   ]
  },
  {
   "cell_type": "code",
   "execution_count": 28,
   "metadata": {},
   "outputs": [],
   "source": [
    "train = load_dataset(\"csv\", data_files=\"/home/toure215/BERT_phonetic/DATASETS/verses/train.csv\")\n",
    "val = load_dataset(\"csv\", data_files=\"/home/toure215/BERT_phonetic/DATASETS/verses/val.csv\")\n",
    "test = load_dataset(\"csv\", data_files=\"/home/toure215/BERT_phonetic/DATASETS/verses/test.csv\")"
   ]
  },
  {
   "cell_type": "code",
   "execution_count": 29,
   "metadata": {},
   "outputs": [
    {
     "name": "stdout",
     "output_type": "stream",
     "text": [
      "DatasetDict({\n",
      "    train: Dataset({\n",
      "        features: ['id', 'sentence1', 'sentence2', 'label'],\n",
      "        num_rows: 143280\n",
      "    })\n",
      "})\n",
      "DatasetDict({\n",
      "    train: Dataset({\n",
      "        features: ['id', 'sentence1', 'sentence2', 'label'],\n",
      "        num_rows: 15921\n",
      "    })\n",
      "})\n",
      "DatasetDict({\n",
      "    train: Dataset({\n",
      "        features: ['id', 'sentence1', 'sentence2', 'label'],\n",
      "        num_rows: 39801\n",
      "    })\n",
      "})\n"
     ]
    }
   ],
   "source": [
    "print(train)\n",
    "print(val)\n",
    "print(test)"
   ]
  },
  {
   "cell_type": "code",
   "execution_count": 32,
   "metadata": {},
   "outputs": [
    {
     "data": {
      "text/plain": [
       "DatasetDict({\n",
       "    train: Dataset({\n",
       "        features: ['id', 'sentence1', 'sentence2', 'label'],\n",
       "        num_rows: 143280\n",
       "    })\n",
       "    validation: Dataset({\n",
       "        features: ['id', 'sentence1', 'sentence2', 'label'],\n",
       "        num_rows: 15921\n",
       "    })\n",
       "    test: Dataset({\n",
       "        features: ['id', 'sentence1', 'sentence2', 'label'],\n",
       "        num_rows: 39801\n",
       "    })\n",
       "})"
      ]
     },
     "execution_count": 32,
     "metadata": {},
     "output_type": "execute_result"
    }
   ],
   "source": [
    "hf_dataset = DatasetDict({\n",
    "    \"train\": train[\"train\"],\n",
    "    \"validation\": val[\"train\"],\n",
    "    \"test\": test[\"train\"],\n",
    "})\n",
    "hf_dataset"
   ]
  },
  {
   "cell_type": "code",
   "execution_count": 33,
   "metadata": {},
   "outputs": [
    {
     "data": {
      "application/vnd.jupyter.widget-view+json": {
       "model_id": "78e3219a824f4c7cb3d719ddfa84dd2e",
       "version_major": 2,
       "version_minor": 0
      },
      "text/plain": [
       "Saving the dataset (0/1 shards):   0%|          | 0/143280 [00:00<?, ? examples/s]"
      ]
     },
     "metadata": {},
     "output_type": "display_data"
    },
    {
     "data": {
      "application/vnd.jupyter.widget-view+json": {
       "model_id": "861f9e5966f94e01b3f92844afef9e03",
       "version_major": 2,
       "version_minor": 0
      },
      "text/plain": [
       "Saving the dataset (0/1 shards):   0%|          | 0/15921 [00:00<?, ? examples/s]"
      ]
     },
     "metadata": {},
     "output_type": "display_data"
    },
    {
     "data": {
      "application/vnd.jupyter.widget-view+json": {
       "model_id": "d9690cbac2434315b52b62205ac70313",
       "version_major": 2,
       "version_minor": 0
      },
      "text/plain": [
       "Saving the dataset (0/1 shards):   0%|          | 0/39801 [00:00<?, ? examples/s]"
      ]
     },
     "metadata": {},
     "output_type": "display_data"
    }
   ],
   "source": [
    "hf_dataset.save_to_disk(\"/home/toure215/BERT_phonetic/DATASETS/verses/hf_dataset\")"
   ]
  },
  {
   "cell_type": "code",
   "execution_count": null,
   "metadata": {},
   "outputs": [],
   "source": []
  }
 ],
 "metadata": {
  "kernelspec": {
   "display_name": "bert",
   "language": "python",
   "name": "python3"
  },
  "language_info": {
   "codemirror_mode": {
    "name": "ipython",
    "version": 3
   },
   "file_extension": ".py",
   "mimetype": "text/x-python",
   "name": "python",
   "nbconvert_exporter": "python",
   "pygments_lexer": "ipython3",
   "version": "3.10.15"
  }
 },
 "nbformat": 4,
 "nbformat_minor": 2
}
