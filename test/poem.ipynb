{
 "cells": [
  {
   "cell_type": "code",
   "execution_count": 70,
   "metadata": {},
   "outputs": [],
   "source": [
    "import os\n",
    "from datasets import load_dataset\n",
    "import pandas as pd\n"
   ]
  },
  {
   "cell_type": "code",
   "execution_count": 71,
   "metadata": {},
   "outputs": [
    {
     "name": "stderr",
     "output_type": "stream",
     "text": [
      "Repo card metadata block was not found. Setting CardData to empty.\n"
     ]
    },
    {
     "name": "stdout",
     "output_type": "stream",
     "text": [
      "DatasetDict({\n",
      "    train: Dataset({\n",
      "        features: ['author', 'content', 'poem name', 'age', 'type'],\n",
      "        num_rows: 573\n",
      "    })\n",
      "})\n"
     ]
    }
   ],
   "source": [
    "ds = load_dataset(\"merve/poetry\", num_proc=15)\n",
    "print(ds)"
   ]
  },
  {
   "cell_type": "code",
   "execution_count": 72,
   "metadata": {},
   "outputs": [
    {
     "name": "stdout",
     "output_type": "stream",
     "text": [
      "Let the bird of loudest lay\n",
      "On the sole Arabian tree\n",
      "Herald sad and trumpet be,\n",
      "To whose sound chaste wings obey.\n",
      "\n",
      "But thou shrieking harbinger,\n",
      "Foul precurrer of the fiend,\n",
      "Augur of the fever's end,\n",
      "To this troop come thou not near.\n",
      "\n",
      "From this session interdict\n",
      "Every fowl of tyrant wing,\n",
      "Save the eagle, feather'd king;\n",
      "Keep the obsequy so strict.\n",
      "\n",
      "Let the priest in surplice white,\n",
      "That defunctive music can,\n",
      "Be the death-divining swan,\n",
      "Lest the requiem lack his right.\n",
      "\n",
      "And thou treble-dated crow,\n",
      "That thy sable gender mak'st\n",
      "With the breath thou giv'st and tak'st,\n",
      "'Mongst our mourners shalt thou go.\n",
      "\n",
      "Here the anthem doth commence:\n",
      "Love and constancy is dead;\n",
      "Phoenix and the Turtle fled\n",
      "In a mutual flame from hence.\n",
      "\n",
      "So they lov'd, as love in twain\n",
      "Had the essence but in one;\n",
      "Two distincts, division none:\n",
      "Number there in love was slain.\n",
      "\n",
      "Hearts remote, yet not asunder;\n",
      "Distance and no space was seen\n",
      "'Twixt this Turtle and his queen:\n",
      "But in them it were a wonder.\n",
      "\n",
      "So between them love did shine\n",
      "That the Turtle saw his right\n",
      "Flaming in the Phoenix' sight:\n",
      "Either was the other's mine.\n",
      "\n",
      "Property was thus appalled\n",
      "That the self was not the same;\n",
      "Single nature's double name\n",
      "Neither two nor one was called.\n",
      "\n",
      "Reason, in itself confounded,\n",
      "Saw division grow together,\n",
      "To themselves yet either neither,\n",
      "Simple were so well compounded;\n",
      "\n",
      "That it cried, \"How true a twain\n",
      "Seemeth this concordant one!\n",
      "Love has reason, reason none,\n",
      "If what parts can so remain.\"\n",
      "\n",
      "Whereupon it made this threne\n",
      "To the Phoenix and the Dove,\n",
      "Co-supremes and stars of love,\n",
      "As chorus to their tragic scene:\n",
      "\n",
      "                 threnos\n",
      "\n",
      "Beauty, truth, and rarity,\n",
      "Grace in all simplicity,\n",
      "Here enclos'd, in cinders lie.\n",
      "\n",
      "Death is now the Phoenix' nest,\n",
      "And the Turtle's loyal breast\n",
      "To eternity doth rest,\n",
      "\n",
      "Leaving no posterity:\n",
      "'Twas not their infirmity,\n",
      "It was married chastity.\n",
      "\n",
      "Truth may seem but cannot be;\n",
      "Beauty brag but 'tis not she;\n",
      "Truth and beauty buried be.\n",
      "\n",
      "To this urn let those repair\n",
      "That are either true or fair;\n",
      "For these dead birds sigh a prayer.\n"
     ]
    }
   ],
   "source": [
    "poems = ds['train']['content']\n",
    "print(poems[0])"
   ]
  },
  {
   "cell_type": "code",
   "execution_count": 73,
   "metadata": {},
   "outputs": [
    {
     "data": {
      "text/html": [
       "<div>\n",
       "<style scoped>\n",
       "    .dataframe tbody tr th:only-of-type {\n",
       "        vertical-align: middle;\n",
       "    }\n",
       "\n",
       "    .dataframe tbody tr th {\n",
       "        vertical-align: top;\n",
       "    }\n",
       "\n",
       "    .dataframe thead th {\n",
       "        text-align: right;\n",
       "    }\n",
       "</style>\n",
       "<table border=\"1\" class=\"dataframe\">\n",
       "  <thead>\n",
       "    <tr style=\"text-align: right;\">\n",
       "      <th></th>\n",
       "      <th>input_text</th>\n",
       "    </tr>\n",
       "  </thead>\n",
       "  <tbody>\n",
       "    <tr>\n",
       "      <th>0</th>\n",
       "      <td>ah why this boding start this sudden pain</td>\n",
       "    </tr>\n",
       "    <tr>\n",
       "      <th>1</th>\n",
       "      <td>that wings my pulse and shoots from vein to vein</td>\n",
       "    </tr>\n",
       "    <tr>\n",
       "      <th>2</th>\n",
       "      <td>what mean regardless of yon midnight bell</td>\n",
       "    </tr>\n",
       "    <tr>\n",
       "      <th>3</th>\n",
       "      <td>these earthborn visions saddening o'er my cell</td>\n",
       "    </tr>\n",
       "    <tr>\n",
       "      <th>4</th>\n",
       "      <td>what strange disorder prompts these thoughts t...</td>\n",
       "    </tr>\n",
       "  </tbody>\n",
       "</table>\n",
       "</div>"
      ],
      "text/plain": [
       "                                          input_text\n",
       "0          ah why this boding start this sudden pain\n",
       "1   that wings my pulse and shoots from vein to vein\n",
       "2          what mean regardless of yon midnight bell\n",
       "3     these earthborn visions saddening o'er my cell\n",
       "4  what strange disorder prompts these thoughts t..."
      ]
     },
     "execution_count": 73,
     "metadata": {},
     "output_type": "execute_result"
    }
   ],
   "source": [
    "pd_dataset = pd.read_csv('/home/toure215/BERT_phonetic/DATASETS/verses/verses.csv')\n",
    "pd_dataset = pd_dataset.rename({\"Verse\": \"input_text\"}, axis='columns').drop(columns=['id', 'Meter', 'char_count'])\n",
    "pd_dataset.head()"
   ]
  },
  {
   "cell_type": "code",
   "execution_count": 74,
   "metadata": {},
   "outputs": [],
   "source": [
    "file_path = '/home/toure215/BERT_phonetic/DATASETS/verses/super_verses.csv'"
   ]
  },
  {
   "cell_type": "code",
   "execution_count": 75,
   "metadata": {},
   "outputs": [],
   "source": [
    "pd_dataset.to_csv(file_path, index=False)"
   ]
  },
  {
   "cell_type": "code",
   "execution_count": 76,
   "metadata": {},
   "outputs": [],
   "source": [
    "# def list_files(startpath):\n",
    "#     all_files = []\n",
    "#     for root, dirs, files in os.walk(startpath):\n",
    "#         for f in files:\n",
    "#             all_files.append(os.path.join(root, f))\n",
    "#     return all_files\n",
    "\n",
    "# all_files = list_files('/home/toure215/Téléchargements/archive/forms')\n",
    "# print(len(all_files))\n",
    "        "
   ]
  },
  {
   "cell_type": "code",
   "execution_count": 77,
   "metadata": {},
   "outputs": [],
   "source": [
    "# with open(file_path, 'a') as f:\n",
    "#     for file in all_files:\n",
    "#         with open(file, 'r') as f2:\n",
    "#             f.write(f2.read())\n",
    "#             f.write('\\n\\n')"
   ]
  },
  {
   "cell_type": "code",
   "execution_count": 78,
   "metadata": {},
   "outputs": [
    {
     "name": "stdout",
     "output_type": "stream",
     "text": [
      "199003 /home/toure215/BERT_phonetic/DATASETS/verses/super_verses.csv\n"
     ]
    }
   ],
   "source": [
    "!wc -l /home/toure215/BERT_phonetic/DATASETS/verses/super_verses.csv"
   ]
  },
  {
   "cell_type": "code",
   "execution_count": 79,
   "metadata": {},
   "outputs": [
    {
     "name": "stdout",
     "output_type": "stream",
     "text": [
      "Path to dataset files: /home/toure215/.cache/kagglehub/datasets/tgdivy/poetry-foundation-poems/versions/1\n"
     ]
    }
   ],
   "source": [
    "import kagglehub\n",
    "\n",
    "# Download latest version\n",
    "path = kagglehub.dataset_download(\"tgdivy/poetry-foundation-poems\")\n",
    "\n",
    "print(\"Path to dataset files:\", path)"
   ]
  },
  {
   "cell_type": "code",
   "execution_count": 80,
   "metadata": {},
   "outputs": [
    {
     "data": {
      "text/html": [
       "<div>\n",
       "<style scoped>\n",
       "    .dataframe tbody tr th:only-of-type {\n",
       "        vertical-align: middle;\n",
       "    }\n",
       "\n",
       "    .dataframe tbody tr th {\n",
       "        vertical-align: top;\n",
       "    }\n",
       "\n",
       "    .dataframe thead th {\n",
       "        text-align: right;\n",
       "    }\n",
       "</style>\n",
       "<table border=\"1\" class=\"dataframe\">\n",
       "  <thead>\n",
       "    <tr style=\"text-align: right;\">\n",
       "      <th></th>\n",
       "      <th>Unnamed: 0</th>\n",
       "      <th>Title</th>\n",
       "      <th>Poem</th>\n",
       "      <th>Poet</th>\n",
       "      <th>Tags</th>\n",
       "    </tr>\n",
       "  </thead>\n",
       "  <tbody>\n",
       "    <tr>\n",
       "      <th>0</th>\n",
       "      <td>0</td>\n",
       "      <td>\\r\\r\\n                    Objects Used to Prop...</td>\n",
       "      <td>\\r\\r\\nDog bone, stapler,\\r\\r\\ncribbage board, ...</td>\n",
       "      <td>Michelle Menting</td>\n",
       "      <td>NaN</td>\n",
       "    </tr>\n",
       "    <tr>\n",
       "      <th>1</th>\n",
       "      <td>1</td>\n",
       "      <td>\\r\\r\\n                    The New Church\\r\\r\\n...</td>\n",
       "      <td>\\r\\r\\nThe old cupola glinted above the clouds,...</td>\n",
       "      <td>Lucia Cherciu</td>\n",
       "      <td>NaN</td>\n",
       "    </tr>\n",
       "    <tr>\n",
       "      <th>2</th>\n",
       "      <td>2</td>\n",
       "      <td>\\r\\r\\n                    Look for Me\\r\\r\\n   ...</td>\n",
       "      <td>\\r\\r\\nLook for me under the hood\\r\\r\\nof that ...</td>\n",
       "      <td>Ted Kooser</td>\n",
       "      <td>NaN</td>\n",
       "    </tr>\n",
       "    <tr>\n",
       "      <th>3</th>\n",
       "      <td>3</td>\n",
       "      <td>\\r\\r\\n                    Wild Life\\r\\r\\n     ...</td>\n",
       "      <td>\\r\\r\\nBehind the silo, the Mother Rabbit\\r\\r\\n...</td>\n",
       "      <td>Grace Cavalieri</td>\n",
       "      <td>NaN</td>\n",
       "    </tr>\n",
       "    <tr>\n",
       "      <th>4</th>\n",
       "      <td>4</td>\n",
       "      <td>\\r\\r\\n                    Umbrella\\r\\r\\n      ...</td>\n",
       "      <td>\\r\\r\\nWhen I push your button\\r\\r\\nyou fly off...</td>\n",
       "      <td>Connie Wanek</td>\n",
       "      <td>NaN</td>\n",
       "    </tr>\n",
       "  </tbody>\n",
       "</table>\n",
       "</div>"
      ],
      "text/plain": [
       "   Unnamed: 0                                              Title  \\\n",
       "0           0  \\r\\r\\n                    Objects Used to Prop...   \n",
       "1           1  \\r\\r\\n                    The New Church\\r\\r\\n...   \n",
       "2           2  \\r\\r\\n                    Look for Me\\r\\r\\n   ...   \n",
       "3           3  \\r\\r\\n                    Wild Life\\r\\r\\n     ...   \n",
       "4           4  \\r\\r\\n                    Umbrella\\r\\r\\n      ...   \n",
       "\n",
       "                                                Poem              Poet Tags  \n",
       "0  \\r\\r\\nDog bone, stapler,\\r\\r\\ncribbage board, ...  Michelle Menting  NaN  \n",
       "1  \\r\\r\\nThe old cupola glinted above the clouds,...     Lucia Cherciu  NaN  \n",
       "2  \\r\\r\\nLook for me under the hood\\r\\r\\nof that ...        Ted Kooser  NaN  \n",
       "3  \\r\\r\\nBehind the silo, the Mother Rabbit\\r\\r\\n...   Grace Cavalieri  NaN  \n",
       "4  \\r\\r\\nWhen I push your button\\r\\r\\nyou fly off...      Connie Wanek  NaN  "
      ]
     },
     "execution_count": 80,
     "metadata": {},
     "output_type": "execute_result"
    }
   ],
   "source": [
    "kg = pd.read_csv(path + '/PoetryFoundationData.csv')\n",
    "kg.head()"
   ]
  },
  {
   "cell_type": "code",
   "execution_count": 81,
   "metadata": {},
   "outputs": [],
   "source": [
    "with open(file_path, 'a') as f:\n",
    "    for poem in kg['Poem']:\n",
    "        f.write(poem)\n",
    "        f.write('\\n\\n')"
   ]
  },
  {
   "cell_type": "code",
   "execution_count": 88,
   "metadata": {},
   "outputs": [],
   "source": [
    "import re\n"
   ]
  },
  {
   "cell_type": "code",
   "execution_count": 92,
   "metadata": {},
   "outputs": [
    {
     "name": "stdout",
     "output_type": "stream",
     "text": [
      "544549\n"
     ]
    }
   ],
   "source": [
    "lines = []\n",
    "with open(file_path, 'r') as f:\n",
    "    lines = f.readlines()\n",
    "\n",
    "lines = list(filter(lambda x: len(x) < 100 and len(x) > 2, lines))\n",
    "lines = list(map(lambda x: re.sub(r\"\\s+\", \" \", x), lines))\n",
    "lines = list(map(lambda x: re.sub(r\"[^a-zA-Z0-9\\s]\", \"\", x), lines))\n",
    "lines = list(map(lambda x: re.sub(r\"http\\S+\", \"\", x), lines))\n",
    "lines = list(map(lambda x: x.strip(), lines))\n",
    "print(len(lines))"
   ]
  },
  {
   "cell_type": "code",
   "execution_count": 93,
   "metadata": {},
   "outputs": [],
   "source": [
    "with open(file_path, 'w') as f:\n",
    "    for line in lines:\n",
    "        f.write(line)\n",
    "        f.write('\\n')"
   ]
  },
  {
   "cell_type": "code",
   "execution_count": null,
   "metadata": {},
   "outputs": [],
   "source": []
  }
 ],
 "metadata": {
  "kernelspec": {
   "display_name": "bert",
   "language": "python",
   "name": "python3"
  },
  "language_info": {
   "codemirror_mode": {
    "name": "ipython",
    "version": 3
   },
   "file_extension": ".py",
   "mimetype": "text/x-python",
   "name": "python",
   "nbconvert_exporter": "python",
   "pygments_lexer": "ipython3",
   "version": "3.10.15"
  }
 },
 "nbformat": 4,
 "nbformat_minor": 2
}
